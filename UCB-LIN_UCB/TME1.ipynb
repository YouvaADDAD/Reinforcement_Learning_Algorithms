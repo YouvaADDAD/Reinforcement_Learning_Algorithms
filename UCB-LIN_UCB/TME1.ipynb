{
 "cells": [
  {
   "cell_type": "code",
   "execution_count": 1,
   "metadata": {},
   "outputs": [],
   "source": [
    "import numpy as np\n",
    "import pandas as pd\n",
    "import  matplotlib.pyplot as plt"
   ]
  },
  {
   "cell_type": "code",
   "execution_count": null,
   "metadata": {},
   "outputs": [],
   "source": [
    "profiles=pd.read_csv('./CTR.txt',sep=':',header=None)\n",
    "profiles[1]=profiles[1].apply(lambda x: np.array(x.split(';'),dtype=float))\n",
    "profiles[2]=profiles[2].apply(lambda x: np.array(x.split(';'),dtype=float))\n",
    "profiles.columns=['num_articles','features','taux_de_clics']"
   ]
  },
  {
   "cell_type": "markdown",
   "metadata": {},
   "source": [
    "# Random Strategy"
   ]
  },
  {
   "cell_type": "code",
   "execution_count": null,
   "metadata": {},
   "outputs": [],
   "source": [
    "np.random.seed(0)\n",
    "def random_strategy(data):\n",
    "    return data['taux_de_clics'].apply(lambda line: np.random.choice(line)).cumsum()\n",
    "\n",
    "def algo_random(data):\n",
    "    return data.apply(lambda x : np.random.choice(x)).cumsum()"
   ]
  },
  {
   "cell_type": "code",
   "execution_count": null,
   "metadata": {},
   "outputs": [],
   "source": [
    "np.random.seed(0)\n",
    "random_strategy(profiles)"
   ]
  },
  {
   "cell_type": "code",
   "execution_count": null,
   "metadata": {},
   "outputs": [],
   "source": [
    "np.random.seed(0)\n",
    "algo_random(profiles['taux_de_clics'])"
   ]
  },
  {
   "cell_type": "markdown",
   "metadata": {},
   "source": [
    "# StaticBest"
   ]
  },
  {
   "cell_type": "code",
   "execution_count": null,
   "metadata": {},
   "outputs": [],
   "source": [
    "def staticBest_strategy(data):\n",
    "    index=np.array(data['taux_de_clics'].tolist()).sum(0).argmax()\n",
    "    return data['taux_de_clics'].apply(lambda x:x[index]).cumsum().to_numpy()"
   ]
  },
  {
   "cell_type": "code",
   "execution_count": null,
   "metadata": {},
   "outputs": [],
   "source": [
    "staticBest_strategy(profiles)"
   ]
  },
  {
   "cell_type": "code",
   "execution_count": null,
   "metadata": {},
   "outputs": [],
   "source": [
    "def algo_staticBase(data):\n",
    "    index=np.array(data.tolist()).sum(0).argmax()\n",
    "    return data.apply(lambda x:x[index]).cumsum().to_numpy()"
   ]
  },
  {
   "cell_type": "code",
   "execution_count": null,
   "metadata": {},
   "outputs": [],
   "source": [
    "algo_staticBase(profiles['taux_de_clics'])"
   ]
  },
  {
   "cell_type": "markdown",
   "metadata": {},
   "source": [
    "# Stratégie Optimale"
   ]
  },
  {
   "cell_type": "code",
   "execution_count": null,
   "metadata": {},
   "outputs": [],
   "source": [
    "def optimale_strategy(data):\n",
    "    return data['taux_de_clics'].apply(lambda line: np.max(line)).cumsum().to_numpy()"
   ]
  },
  {
   "cell_type": "code",
   "execution_count": null,
   "metadata": {},
   "outputs": [],
   "source": [
    "optimale_strategy(profiles)"
   ]
  },
  {
   "cell_type": "code",
   "execution_count": null,
   "metadata": {},
   "outputs": [],
   "source": [
    "def algo_optimale(data):\n",
    "    return data.apply(lambda x : x.max()).cumsum().to_numpy()"
   ]
  },
  {
   "cell_type": "code",
   "execution_count": null,
   "metadata": {},
   "outputs": [],
   "source": [
    "algo_optimale(profiles['taux_de_clics'])"
   ]
  },
  {
   "cell_type": "markdown",
   "metadata": {},
   "source": [
    "# Put All Together"
   ]
  },
  {
   "cell_type": "code",
   "execution_count": null,
   "metadata": {},
   "outputs": [],
   "source": [
    "plt.plot(profiles['num_articles'],random_strategy(profiles),label='random')\n",
    "plt.plot(profiles['num_articles'],staticBest_strategy(profiles),label='staticBase')\n",
    "plt.plot(profiles['num_articles'],optimale_strategy(profiles),label='Optimale')\n",
    "plt.legend()\n",
    "plt.show()"
   ]
  },
  {
   "cell_type": "code",
   "execution_count": null,
   "metadata": {},
   "outputs": [],
   "source": [
    "plt.plot(profiles['num_articles'],algo_random(profiles['taux_de_clics']),label='random')\n",
    "plt.plot(profiles['num_articles'],algo_staticBase(profiles['taux_de_clics']),label='staticBase')\n",
    "plt.plot(profiles['num_articles'],algo_optimale(profiles['taux_de_clics']),label='Optimale')"
   ]
  },
  {
   "cell_type": "markdown",
   "metadata": {},
   "source": [
    "# UCB"
   ]
  },
  {
   "cell_type": "code",
   "execution_count": null,
   "metadata": {},
   "outputs": [],
   "source": [
    "def UCB(data):\n",
    "    T=data.shape[0]\n",
    "    lenS=len(data['reward'][0])\n",
    "    cumulated=np.zeros(lenS)\n",
    "    S=np.ones(lenS)\n",
    "    res=[0]\n",
    "    for t in range(1,T+1):\n",
    "        B=cumulated/S+np.sqrt(2*np.log(t)/S)\n",
    "        policy=B.argmax()\n",
    "        S[policy]+=1\n",
    "        cumulated[policy]+=data['reward'][t-1][policy]\n",
    "        res.append(res[t-1]+data['reward'][t-1][policy])\n",
    "    return res[1:]\n",
    "        \n",
    "        "
   ]
  },
  {
   "cell_type": "code",
   "execution_count": null,
   "metadata": {
    "scrolled": true
   },
   "outputs": [],
   "source": [
    "plt.plot(profiles['t'],algo_random(profiles['reward']),label='random')\n",
    "plt.plot(profiles['t'],algo_staticBase(profiles['reward']),label='staticBase')\n",
    "plt.plot(profiles['t'],algo_optimale(profiles['reward']),label='Optimale')\n",
    "plt.plot(profiles['t'],UCB(profiles),label='UCB')\n",
    "plt.legend()"
   ]
  },
  {
   "cell_type": "markdown",
   "metadata": {},
   "source": [
    "# UCB"
   ]
  },
  {
   "cell_type": "code",
   "execution_count": null,
   "metadata": {},
   "outputs": [],
   "source": []
  },
  {
   "cell_type": "code",
   "execution_count": null,
   "metadata": {},
   "outputs": [],
   "source": []
  },
  {
   "cell_type": "code",
   "execution_count": null,
   "metadata": {},
   "outputs": [],
   "source": []
  },
  {
   "cell_type": "code",
   "execution_count": null,
   "metadata": {},
   "outputs": [],
   "source": []
  },
  {
   "cell_type": "code",
   "execution_count": null,
   "metadata": {},
   "outputs": [],
   "source": []
  },
  {
   "cell_type": "code",
   "execution_count": null,
   "metadata": {},
   "outputs": [],
   "source": []
  },
  {
   "cell_type": "code",
   "execution_count": null,
   "metadata": {},
   "outputs": [],
   "source": []
  },
  {
   "cell_type": "code",
   "execution_count": null,
   "metadata": {},
   "outputs": [],
   "source": []
  },
  {
   "cell_type": "code",
   "execution_count": null,
   "metadata": {},
   "outputs": [],
   "source": []
  },
  {
   "cell_type": "code",
   "execution_count": null,
   "metadata": {},
   "outputs": [],
   "source": []
  },
  {
   "cell_type": "code",
   "execution_count": null,
   "metadata": {},
   "outputs": [],
   "source": [
    "import numpy as np\n",
    "import pandas as pd\n",
    "import  matplotlib.pyplot as plt"
   ]
  },
  {
   "cell_type": "markdown",
   "metadata": {},
   "source": [
    "# File Reader"
   ]
  },
  {
   "cell_type": "code",
   "execution_count": 2,
   "metadata": {},
   "outputs": [],
   "source": [
    "def read_ads(filename):\n",
    "    file=open(filename,'r')\n",
    "    lines=file.readlines()\n",
    "    T=[]\n",
    "    feautures=[]\n",
    "    taux_clics=[]\n",
    "    for line in lines: \n",
    "        t,features,taux=line.split(':')\n",
    "        feature=np.array(features.split(';'),dtype=float)\n",
    "        taux=np.array(taux.split(';'),dtype=float)\n",
    "        T.append(t)\n",
    "        feautures.append(feature)\n",
    "        taux_clics.append(taux)\n",
    "    return np.array(T,dtype=int),np.array(feautures),np.array(taux_clics)"
   ]
  },
  {
   "cell_type": "code",
   "execution_count": 3,
   "metadata": {},
   "outputs": [],
   "source": [
    "T,features,taux=read_ads('./CTR.txt')"
   ]
  },
  {
   "cell_type": "markdown",
   "metadata": {},
   "source": [
    "# BASELINE"
   ]
  },
  {
   "cell_type": "code",
   "execution_count": 15,
   "metadata": {},
   "outputs": [],
   "source": [
    "#data= only taux\n",
    "def random_strategy(data):\n",
    "    return np.cumsum(list(map(lambda x: np.random.choice(x),data)))\n",
    "\n",
    "def staticBase_strategy(data):\n",
    "    index=data.sum(0).argmax()\n",
    "    return np.cumsum(list(map(lambda x: x[index],data)))\n",
    "\n",
    "def optimale_strategy(data):\n",
    "    return np.cumsum(list(map(lambda x: x.max(),data)))"
   ]
  },
  {
   "cell_type": "code",
   "execution_count": null,
   "metadata": {
    "scrolled": false
   },
   "outputs": [],
   "source": [
    "plt.plot(T,random_strategy(taux),label='random')\n",
    "plt.plot(T,staticBase_strategy(taux),label='staticBase')\n",
    "plt.plot(T,optimale_strategy(taux),label='Optimale')\n",
    "plt.legend()"
   ]
  },
  {
   "cell_type": "markdown",
   "metadata": {},
   "source": [
    "# UCB"
   ]
  },
  {
   "cell_type": "code",
   "execution_count": 39,
   "metadata": {},
   "outputs": [],
   "source": [
    "#data->taux\n",
    "def UCB(data):\n",
    "    T,nbAnnonceur=data.shape\n",
    "    B=np.zeros(nbAnnonceur)\n",
    "    S=np.ones(nbAnnonceur)\n",
    "    cum=np.zeros(nbAnnonceur)\n",
    "    rewards=[0.]\n",
    "    for t in range (1,T+1):\n",
    "        B=(cum/S)+np.sqrt(2*np.log(t)/S)\n",
    "        pi=B.argmax()\n",
    "        S[pi]+=1\n",
    "        reward=data[t-1][pi]\n",
    "        cum[pi]+=reward\n",
    "        rewards.append(rewards[t-1]+reward)\n",
    "    return np.array(rewards[1:])\n",
    "        "
   ]
  },
  {
   "cell_type": "code",
   "execution_count": 40,
   "metadata": {},
   "outputs": [
    {
     "data": {
      "text/plain": [
       "array([1.03419057e-01, 1.03419057e-01, 1.03419057e-01, ...,\n",
       "       1.00670186e+03, 1.00670186e+03, 1.00707176e+03])"
      ]
     },
     "execution_count": 40,
     "metadata": {},
     "output_type": "execute_result"
    }
   ],
   "source": [
    "UCB(taux)"
   ]
  },
  {
   "cell_type": "code",
   "execution_count": 25,
   "metadata": {
    "scrolled": false
   },
   "outputs": [
    {
     "data": {
      "text/plain": [
       "<matplotlib.legend.Legend at 0x7fb8390037c0>"
      ]
     },
     "execution_count": 25,
     "metadata": {},
     "output_type": "execute_result"
    },
    {
     "data": {
      "image/png": "[encoded data removed]",
      "text/plain": [
       "<Figure size 432x288 with 1 Axes>"
      ]
     },
     "metadata": {
      "needs_background": "light"
     },
     "output_type": "display_data"
    }
   ],
   "source": [
    "plt.plot(T,random_strategy(taux),label='random')\n",
    "plt.plot(T,staticBase_strategy(taux),label='staticBase')\n",
    "plt.plot(T,optimale_strategy(taux),label='Optimale')\n",
    "plt.plot(T,UCB(taux),label='UCB')\n",
    "plt.legend()"
   ]
  },
  {
   "cell_type": "code",
   "execution_count": 45,
   "metadata": {},
   "outputs": [],
   "source": [
    "class UCB(object):\n",
    "    def __init__(self,taux_de_clics,confidence=1.0):\n",
    "        self.c=confidence\n",
    "        self.T,self.nbAnnonceur=taux_de_clics.shape\n",
    "        self.data=taux_de_clics\n",
    "        self.t=0\n",
    "        self.quality = np.zeros((self.nbAnnonceur))\n",
    "        self.counter = np.ones((self.nbAnnonceur))\n",
    "        \n",
    "        \n",
    "    def act(self):\n",
    "        self.t += 1\n",
    "        action = np.argmax(self.quality + self.c * np.sqrt(2 * np.log(self.t) / (self.counter)))\n",
    "        return action\n",
    "    \n",
    "    def learn(self):\n",
    "        \n",
    "        rewards=[]\n",
    "        for t in range(1, self.T + 1):\n",
    "            action=self.act()\n",
    "            reward=self.data[t-1][action]\n",
    "            self.quality[action] += (reward-self.quality[action]) / (self.counter[action])\n",
    "            self.counter[action] += 1\n",
    "            rewards.append(reward)\n",
    "        return np.cumsum(rewards)"
   ]
  },
  {
   "cell_type": "code",
   "execution_count": 44,
   "metadata": {},
   "outputs": [
    {
     "data": {
      "text/plain": [
       "array([1.03419057e-01, 1.03419057e-01, 1.03419057e-01, ...,\n",
       "       9.98334452e+02, 9.98334452e+02, 9.98704353e+02])"
      ]
     },
     "execution_count": 44,
     "metadata": {},
     "output_type": "execute_result"
    }
   ],
   "source": [
    "UCB(taux).learn()"
   ]
  },
  {
   "cell_type": "code",
   "execution_count": 23,
   "metadata": {},
   "outputs": [
    {
     "data": {
      "text/plain": [
       "<matplotlib.legend.Legend at 0x7fb8280484f0>"
      ]
     },
     "execution_count": 23,
     "metadata": {},
     "output_type": "execute_result"
    },
    {
     "data": {
      "image/png": "[encoded data removed]",
      "text/plain": [
       "<Figure size 432x288 with 1 Axes>"
      ]
     },
     "metadata": {
      "needs_background": "light"
     },
     "output_type": "display_data"
    }
   ],
   "source": [
    "plt.plot(T,random_strategy(taux),label='random')\n",
    "plt.plot(T,staticBase_strategy(taux),label='staticBase')\n",
    "plt.plot(T,optimale_strategy(taux),label='Optimale')\n",
    "plt.plot(T,UCB(taux).learn(),label='UCB')\n",
    "plt.legend()"
   ]
  },
  {
   "cell_type": "code",
   "execution_count": null,
   "metadata": {},
   "outputs": [],
   "source": []
  },
  {
   "cell_type": "code",
   "execution_count": null,
   "metadata": {},
   "outputs": [],
   "source": []
  },
  {
   "cell_type": "code",
   "execution_count": null,
   "metadata": {},
   "outputs": [],
   "source": []
  },
  {
   "cell_type": "code",
   "execution_count": null,
   "metadata": {},
   "outputs": [],
   "source": []
  },
  {
   "cell_type": "code",
   "execution_count": null,
   "metadata": {},
   "outputs": [],
   "source": []
  },
  {
   "cell_type": "markdown",
   "metadata": {},
   "source": [
    "# Lin-UCB"
   ]
  },
  {
   "cell_type": "code",
   "execution_count": null,
   "metadata": {},
   "outputs": [],
   "source": [
    "def LinUCB(features,data,alpha=0.1):\n",
    "    T=len(data)\n",
    "    nbA=len(data[0])\n",
    "    dim=len(features[0])\n",
    "    A=np.array([np.identity(dim) for _ in range(nbA)])\n",
    "    b=np.zeros((nbA,dim,1)) \n",
    "    rewards=[]\n",
    "    for t in range(T):\n",
    "        x_t=features[t].reshape((dim,1))\n",
    "        P=[]\n",
    "        for a in range(nbA):\n",
    "            rev_A=np.linalg.inv(A[a])\n",
    "            theta=np.dot(rev_A,b[a])\n",
    "            P.append(np.dot(theta.T,x_t)+alpha*np.sqrt((np.dot(np.dot(x_t.T,rev_A),x_t))))\n",
    "        max_arms=np.argmax(P)\n",
    "        reward=data[t,max_arms]\n",
    "        rewards.append(reward)\n",
    "        A[max_arms]+=np.dot(x_t,x_t.T)\n",
    "        b[max_arms]+=reward*x_t\n",
    "    return np.cumsum(rewards)\n",
    "            "
   ]
  },
  {
   "cell_type": "code",
   "execution_count": null,
   "metadata": {
    "scrolled": true
   },
   "outputs": [],
   "source": [
    "plt.plot(T,algo_random(taux),label='random')\n",
    "plt.plot(T,algo_staticBase(taux),label='staticBase')\n",
    "plt.plot(T,algo_optimale(taux),label='Optimale')\n",
    "plt.plot(T,UCB(taux),label='UCB')\n",
    "plt.plot(T,LinUCB(features,taux),label='LinUCB')\n",
    "plt.legend()"
   ]
  },
  {
   "cell_type": "code",
   "execution_count": null,
   "metadata": {},
   "outputs": [],
   "source": [
    "def LinUCB2(features,data,alpha):\n",
    "    d = len(features[0])\n",
    "    l = len(data[0])\n",
    "    A = {}\n",
    "    b = {}\n",
    "    pi = np.zeros((l,1))\n",
    "    accu = [0]\n",
    "    for t in range(data.shape[0]):\n",
    "        x_t=features[t].reshape((d,1))\n",
    "        for a in range(l):\n",
    "            if(A.get(a) is None):\n",
    "                A[a] = np.identity(d)\n",
    "                b[a] = np.zeros((d,1))\n",
    "            invA = np.linalg.inv(A[a])\n",
    "            theta=(invA @ b[a]).T\n",
    "            pi[a] = theta @ x_t + alpha* np.sqrt((x_t.T @ invA) @ x_t)\n",
    "        choice = pi.argmax()\n",
    "        accu.append(accu[t-1]+data[t][choice])\n",
    "#         print(pi,choice)\n",
    "        A[choice] += x_t @ x_t.T\n",
    "        b[choice] += data[t][choice] * x_t\n",
    "    return accu[1:]"
   ]
  },
  {
   "cell_type": "code",
   "execution_count": null,
   "metadata": {},
   "outputs": [],
   "source": [
    "\n",
    "plt.plot(T,LinUCB(features,taux),label='LinUCB')\n",
    "plt.plot(T,LinUCB2(features,taux,0.1),label='LinUCB2')\n",
    "\n",
    "\n",
    "plt.legend()"
   ]
  }
 ],
 "metadata": {
  "kernelspec": {
   "display_name": "Python 3",
   "language": "python",
   "name": "python3"
  },
  "language_info": {
   "codemirror_mode": {
    "name": "ipython",
    "version": 3
   },
   "file_extension": ".py",
   "mimetype": "text/x-python",
   "name": "python",
   "nbconvert_exporter": "python",
   "pygments_lexer": "ipython3",
   "version": "3.8.8"
  }
 },
 "nbformat": 4,
 "nbformat_minor": 4
}
